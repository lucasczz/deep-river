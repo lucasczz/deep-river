{
 "cells": [
  {
   "cell_type": "code",
   "execution_count": null,
   "metadata": {},
   "outputs": [],
   "source": [
    "from river.datasets.synth import FriedmanDrift\n",
    "from river.datasets import Insects \n",
    "from river.preprocessing import MinMaxScaler \n",
    "from river_torch.classification import Classifier\n",
    "from torch import nn \n",
    "from tqdm import tqdm \n",
    "import torch"
   ]
  },
  {
   "cell_type": "code",
   "execution_count": null,
   "metadata": {},
   "outputs": [],
   "source": [
    "friedman = FriedmanDrift(\"gra\", position=(5000, 15000))\n",
    "\n",
    "scaler = MinMaxScaler()\n",
    "\n",
    "\n",
    "class SimpleMLP(nn.Module):\n",
    "    def __init__(self):\n",
    "        self.hidden = nn.Linear(10, 20)\n",
    "        self.logits = nn.Linear(20, 6)\n",
    "\n",
    "    def forward(self, x):\n",
    "        h = self.hidden(x)\n",
    "        h = torch.relu(h)\n",
    "        return self.logits(h)\n",
    "\n",
    "\n",
    "model = Classifier(\n",
    "    SimpleMLP, loss_fn=\"binary_crossentropy_from_logits\", optimizer_fn=\"sgd\", lr=1e-3\n",
    ")\n",
    "\n",
    "for x, y in tqdm(list(friedman.take(20000))): \n",
    "    pass "
   ]
  }
 ],
 "metadata": {
  "kernelspec": {
   "display_name": "Python 3.10.4 ('deepriver')",
   "language": "python",
   "name": "python3"
  },
  "language_info": {
   "name": "python",
   "version": "3.10.4"
  },
  "orig_nbformat": 4,
  "vscode": {
   "interpreter": {
    "hash": "588c5aed37ac83ab820db8800694f2ee474f3b87874329a77c5b9c85c1eac9fa"
   }
  }
 },
 "nbformat": 4,
 "nbformat_minor": 2
}
